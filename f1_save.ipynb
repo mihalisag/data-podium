{
 "cells": [
  {
   "cell_type": "markdown",
   "metadata": {},
   "source": [
    "# Fast F1 - Save data"
   ]
  },
  {
   "cell_type": "markdown",
   "metadata": {},
   "source": [
    "## Import libraries"
   ]
  },
  {
   "cell_type": "code",
   "execution_count": 1,
   "metadata": {},
   "outputs": [],
   "source": [
    "import fastf1\n",
    "import matplotlib.pyplot as plt\n",
    "import pandas as pd"
   ]
  },
  {
   "cell_type": "code",
   "execution_count": null,
   "metadata": {},
   "outputs": [],
   "source": [
    "## TODO\n",
    "## - Need to generalise better with the current date for ongoing season (schedule.iloc).\n",
    "## - Maybe reorganise the columns when saving or better leave for later preprocessing? \n",
    "##   But might be unneccessary disk space if I won't use the other columns.\n",
    "## - Remove preseason-testing event to not be saved.\n",
    "\n",
    "# Specify the season year you want to process\n",
    "year = 2024  # Replace with the desired season year\n",
    "\n",
    "# Retrieve the event schedule for the specified season\n",
    "schedule = fastf1.get_event_schedule(year)\n",
    "schedule = schedule.iloc[:22] \n",
    "\n",
    "# Create an empty list to collect all laps data\n",
    "all_laps = []\n",
    "\n",
    "# Create an empty list to collect all results data\n",
    "all_results = []\n",
    "\n",
    "# Iterate over each event in the schedule\n",
    "for _, event in schedule.iterrows():\n",
    "    # Load the race session\n",
    "    session = fastf1.get_session(year, event['EventName'], 'R')\n",
    "    session.load()  # Load the session data\n",
    "    \n",
    "    # Add the event name as a new column in the laps DataFrame\n",
    "    laps = session.laps\n",
    "    laps['EventName'] = event['EventName']\n",
    "    \n",
    "    # Append the modified laps data to the list\n",
    "    all_laps.append(laps)\n",
    "    print(f\"Laps data loaded for {event['EventName']}\")\n",
    "\n",
    "    # Add the event name as a new column in the results DataFrame\n",
    "    results = session.results\n",
    "    results['EventName'] = event['EventName']\n",
    "\n",
    "    # Append the modified results data to the list\n",
    "    all_results.append(results)\n",
    "    print(f\"Results data loaded for {event['EventName']}\")\n",
    "\n",
    "# Concatenate all collected laps data into a single DataFrame\n",
    "if all_laps:\n",
    "    all_laps_df = pd.concat(all_laps, ignore_index=True)\n",
    "    \n",
    "    # Save the DataFrame to a CSV file\n",
    "    output_file = f'data/gps_{year}_season_laps.csv'\n",
    "    all_laps_df.to_csv(output_file, index=False)\n",
    "    print(f\"Laps data for {year} saved to {output_file}\")\n",
    "else:\n",
    "    print(\"No laps data available for the selected season.\")\n",
    "\n",
    "# Concatenate all collected results data into a single DataFrame\n",
    "if all_results:\n",
    "    all_results_df = pd.concat(all_results, ignore_index=True)\n",
    "    \n",
    "    # Save the DataFrame to a CSV file\n",
    "    output_file = f'data/gps_{year}_season_results.csv'\n",
    "    all_results_df.to_csv(output_file, index=False)\n",
    "    print(f\"Results data for {year} saved to {output_file}\")\n",
    "else:\n",
    "    print(\"No results data available for the selected season.\")\n",
    "\n",
    "\n"
   ]
  }
 ],
 "metadata": {
  "kernelspec": {
   "display_name": "f1_assistant_mac",
   "language": "python",
   "name": "python3"
  },
  "language_info": {
   "codemirror_mode": {
    "name": "ipython",
    "version": 3
   },
   "file_extension": ".py",
   "mimetype": "text/x-python",
   "name": "python",
   "nbconvert_exporter": "python",
   "pygments_lexer": "ipython3",
   "version": "3.13.0"
  }
 },
 "nbformat": 4,
 "nbformat_minor": 2
}
