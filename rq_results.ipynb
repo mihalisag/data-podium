{
 "cells": [
  {
   "cell_type": "markdown",
   "id": "ea9b5ae0-100e-443a-afc2-d275173bcd4a",
   "metadata": {},
   "source": [
    "# Race and Qualifying Results"
   ]
  },
  {
   "cell_type": "markdown",
   "id": "627fb369",
   "metadata": {},
   "source": [
    "## Import libraries"
   ]
  },
  {
   "cell_type": "code",
   "execution_count": 1,
   "id": "3cebf7db-4201-4cc5-9bc7-e87fd13be357",
   "metadata": {},
   "outputs": [],
   "source": [
    "import fastf1\n",
    "import matplotlib.pyplot as plt\n",
    "import pandas as pd\n",
    "from general_utils import *"
   ]
  },
  {
   "cell_type": "markdown",
   "id": "80a60eaf",
   "metadata": {},
   "source": [
    "## Results"
   ]
  },
  {
   "cell_type": "code",
   "execution_count": 12,
   "id": "6b9bdefc-3d9f-4f63-915b-4d87f35d883b",
   "metadata": {},
   "outputs": [
    {
     "data": {
      "text/html": [
       "<div>\n",
       "<style scoped>\n",
       "    .dataframe tbody tr th:only-of-type {\n",
       "        vertical-align: middle;\n",
       "    }\n",
       "\n",
       "    .dataframe tbody tr th {\n",
       "        vertical-align: top;\n",
       "    }\n",
       "\n",
       "    .dataframe thead th {\n",
       "        text-align: right;\n",
       "    }\n",
       "</style>\n",
       "<table border=\"1\" class=\"dataframe\">\n",
       "  <thead>\n",
       "    <tr style=\"text-align: right;\">\n",
       "      <th></th>\n",
       "      <th>Driver</th>\n",
       "      <th>ClassifiedPosition</th>\n",
       "      <th>GridPosition</th>\n",
       "      <th>Status</th>\n",
       "      <th>EventName</th>\n",
       "    </tr>\n",
       "  </thead>\n",
       "  <tbody>\n",
       "    <tr>\n",
       "      <th>0</th>\n",
       "      <td>VER</td>\n",
       "      <td>1</td>\n",
       "      <td>1.0</td>\n",
       "      <td>Finished</td>\n",
       "      <td>Bahrain Grand Prix</td>\n",
       "    </tr>\n",
       "    <tr>\n",
       "      <th>1</th>\n",
       "      <td>PER</td>\n",
       "      <td>2</td>\n",
       "      <td>5.0</td>\n",
       "      <td>Finished</td>\n",
       "      <td>Bahrain Grand Prix</td>\n",
       "    </tr>\n",
       "    <tr>\n",
       "      <th>2</th>\n",
       "      <td>SAI</td>\n",
       "      <td>3</td>\n",
       "      <td>4.0</td>\n",
       "      <td>Finished</td>\n",
       "      <td>Bahrain Grand Prix</td>\n",
       "    </tr>\n",
       "    <tr>\n",
       "      <th>3</th>\n",
       "      <td>LEC</td>\n",
       "      <td>4</td>\n",
       "      <td>2.0</td>\n",
       "      <td>Finished</td>\n",
       "      <td>Bahrain Grand Prix</td>\n",
       "    </tr>\n",
       "    <tr>\n",
       "      <th>4</th>\n",
       "      <td>RUS</td>\n",
       "      <td>5</td>\n",
       "      <td>3.0</td>\n",
       "      <td>Finished</td>\n",
       "      <td>Bahrain Grand Prix</td>\n",
       "    </tr>\n",
       "  </tbody>\n",
       "</table>\n",
       "</div>"
      ],
      "text/plain": [
       "  Driver ClassifiedPosition  GridPosition    Status           EventName\n",
       "0    VER                  1           1.0  Finished  Bahrain Grand Prix\n",
       "1    PER                  2           5.0  Finished  Bahrain Grand Prix\n",
       "2    SAI                  3           4.0  Finished  Bahrain Grand Prix\n",
       "3    LEC                  4           2.0  Finished  Bahrain Grand Prix\n",
       "4    RUS                  5           3.0  Finished  Bahrain Grand Prix"
      ]
     },
     "execution_count": 12,
     "metadata": {},
     "output_type": "execute_result"
    }
   ],
   "source": [
    "results_df = pd.read_csv('data/gps_2024_season_results.csv')\n",
    "results_df = results_df[['Abbreviation', 'ClassifiedPosition', 'GridPosition', 'Status', 'EventName']]\n",
    "results_df = results_df.rename(columns={'Abbreviation': 'Driver'})\n",
    "results_df.head()"
   ]
  },
  {
   "cell_type": "markdown",
   "id": "7670a259",
   "metadata": {},
   "source": [
    "### Race"
   ]
  },
  {
   "cell_type": "markdown",
   "id": "0aacd52d",
   "metadata": {},
   "source": [
    "#### Show the race results for this specific grand prix."
   ]
  },
  {
   "cell_type": "code",
   "execution_count": 8,
   "id": "60a2dd90",
   "metadata": {},
   "outputs": [],
   "source": [
    "event = 'Sao Paulo Grand Prix'"
   ]
  },
  {
   "cell_type": "code",
   "execution_count": 9,
   "id": "b4fba25a",
   "metadata": {},
   "outputs": [
    {
     "name": "stderr",
     "output_type": "stream",
     "text": [
      "events      WARNING \tCorrecting user input 'Sao Paulo Grand Prix' to 'São Paulo Grand Prix'\n"
     ]
    },
    {
     "data": {
      "text/html": [
       "<div>\n",
       "<style scoped>\n",
       "    .dataframe tbody tr th:only-of-type {\n",
       "        vertical-align: middle;\n",
       "    }\n",
       "\n",
       "    .dataframe tbody tr th {\n",
       "        vertical-align: top;\n",
       "    }\n",
       "\n",
       "    .dataframe thead th {\n",
       "        text-align: right;\n",
       "    }\n",
       "</style>\n",
       "<table border=\"1\" class=\"dataframe\">\n",
       "  <thead>\n",
       "    <tr style=\"text-align: right;\">\n",
       "      <th></th>\n",
       "      <th>Driver</th>\n",
       "      <th>ClassifiedPosition</th>\n",
       "      <th>Status</th>\n",
       "    </tr>\n",
       "  </thead>\n",
       "  <tbody>\n",
       "    <tr>\n",
       "      <th>399</th>\n",
       "      <td>VER</td>\n",
       "      <td>1</td>\n",
       "      <td>Finished</td>\n",
       "    </tr>\n",
       "    <tr>\n",
       "      <th>400</th>\n",
       "      <td>OCO</td>\n",
       "      <td>2</td>\n",
       "      <td>Finished</td>\n",
       "    </tr>\n",
       "    <tr>\n",
       "      <th>401</th>\n",
       "      <td>GAS</td>\n",
       "      <td>3</td>\n",
       "      <td>Finished</td>\n",
       "    </tr>\n",
       "    <tr>\n",
       "      <th>402</th>\n",
       "      <td>RUS</td>\n",
       "      <td>4</td>\n",
       "      <td>Finished</td>\n",
       "    </tr>\n",
       "    <tr>\n",
       "      <th>403</th>\n",
       "      <td>LEC</td>\n",
       "      <td>5</td>\n",
       "      <td>Finished</td>\n",
       "    </tr>\n",
       "    <tr>\n",
       "      <th>404</th>\n",
       "      <td>NOR</td>\n",
       "      <td>6</td>\n",
       "      <td>Finished</td>\n",
       "    </tr>\n",
       "    <tr>\n",
       "      <th>405</th>\n",
       "      <td>TSU</td>\n",
       "      <td>7</td>\n",
       "      <td>Finished</td>\n",
       "    </tr>\n",
       "    <tr>\n",
       "      <th>406</th>\n",
       "      <td>PIA</td>\n",
       "      <td>8</td>\n",
       "      <td>Finished</td>\n",
       "    </tr>\n",
       "    <tr>\n",
       "      <th>407</th>\n",
       "      <td>LAW</td>\n",
       "      <td>9</td>\n",
       "      <td>Finished</td>\n",
       "    </tr>\n",
       "    <tr>\n",
       "      <th>408</th>\n",
       "      <td>HAM</td>\n",
       "      <td>10</td>\n",
       "      <td>Finished</td>\n",
       "    </tr>\n",
       "    <tr>\n",
       "      <th>409</th>\n",
       "      <td>PER</td>\n",
       "      <td>11</td>\n",
       "      <td>Finished</td>\n",
       "    </tr>\n",
       "    <tr>\n",
       "      <th>410</th>\n",
       "      <td>BEA</td>\n",
       "      <td>12</td>\n",
       "      <td>Finished</td>\n",
       "    </tr>\n",
       "    <tr>\n",
       "      <th>411</th>\n",
       "      <td>BOT</td>\n",
       "      <td>13</td>\n",
       "      <td>Finished</td>\n",
       "    </tr>\n",
       "    <tr>\n",
       "      <th>412</th>\n",
       "      <td>ALO</td>\n",
       "      <td>14</td>\n",
       "      <td>Finished</td>\n",
       "    </tr>\n",
       "    <tr>\n",
       "      <th>413</th>\n",
       "      <td>ZHO</td>\n",
       "      <td>15</td>\n",
       "      <td>Finished</td>\n",
       "    </tr>\n",
       "    <tr>\n",
       "      <th>414</th>\n",
       "      <td>SAI</td>\n",
       "      <td>R</td>\n",
       "      <td>Accident</td>\n",
       "    </tr>\n",
       "    <tr>\n",
       "      <th>415</th>\n",
       "      <td>COL</td>\n",
       "      <td>R</td>\n",
       "      <td>Accident</td>\n",
       "    </tr>\n",
       "    <tr>\n",
       "      <th>416</th>\n",
       "      <td>ALB</td>\n",
       "      <td>W</td>\n",
       "      <td>Withdrew</td>\n",
       "    </tr>\n",
       "    <tr>\n",
       "      <th>417</th>\n",
       "      <td>STR</td>\n",
       "      <td>W</td>\n",
       "      <td>Withdrew</td>\n",
       "    </tr>\n",
       "    <tr>\n",
       "      <th>418</th>\n",
       "      <td>HUL</td>\n",
       "      <td>D</td>\n",
       "      <td>Disqualified</td>\n",
       "    </tr>\n",
       "  </tbody>\n",
       "</table>\n",
       "</div>"
      ],
      "text/plain": [
       "    Driver ClassifiedPosition        Status\n",
       "399    VER                  1      Finished\n",
       "400    OCO                  2      Finished\n",
       "401    GAS                  3      Finished\n",
       "402    RUS                  4      Finished\n",
       "403    LEC                  5      Finished\n",
       "404    NOR                  6      Finished\n",
       "405    TSU                  7      Finished\n",
       "406    PIA                  8      Finished\n",
       "407    LAW                  9      Finished\n",
       "408    HAM                 10      Finished\n",
       "409    PER                 11      Finished\n",
       "410    BEA                 12      Finished\n",
       "411    BOT                 13      Finished\n",
       "412    ALO                 14      Finished\n",
       "413    ZHO                 15      Finished\n",
       "414    SAI                  R      Accident\n",
       "415    COL                  R      Accident\n",
       "416    ALB                  W      Withdrew\n",
       "417    STR                  W      Withdrew\n",
       "418    HUL                  D  Disqualified"
      ]
     },
     "execution_count": 9,
     "metadata": {},
     "output_type": "execute_result"
    }
   ],
   "source": [
    "get_race_results(event)"
   ]
  },
  {
   "cell_type": "markdown",
   "id": "53b26407",
   "metadata": {},
   "source": [
    "####  Who won the grand prix?\n"
   ]
  },
  {
   "cell_type": "code",
   "execution_count": 11,
   "id": "5c8a3921",
   "metadata": {},
   "outputs": [
    {
     "name": "stderr",
     "output_type": "stream",
     "text": [
      "events      WARNING \tCorrecting user input 'Sao Paulo Grand Prix' to 'São Paulo Grand Prix'\n"
     ]
    },
    {
     "data": {
      "text/plain": [
       "'Driver VER won the São Paulo Grand Prix'"
      ]
     },
     "execution_count": 11,
     "metadata": {},
     "output_type": "execute_result"
    }
   ],
   "source": [
    "get_winner(event)"
   ]
  },
  {
   "cell_type": "markdown",
   "id": "07fc2ea8",
   "metadata": {},
   "source": [
    "#### Compare the number of podium finishes for these two drivers this season."
   ]
  },
  {
   "cell_type": "code",
   "execution_count": 59,
   "id": "b11c008a",
   "metadata": {},
   "outputs": [
    {
     "data": {
      "image/png": "[encoded data removed]",
      "text/plain": [
       "<Figure size 800x500 with 1 Axes>"
      ]
     },
     "metadata": {},
     "output_type": "display_data"
    }
   ],
   "source": [
    "get_season_podiums()"
   ]
  },
  {
   "cell_type": "markdown",
   "id": "e3d97dd1",
   "metadata": {},
   "source": [
    "Can input the name of the drivers to compare. Also make a bar chart of the podiums (improve how it looks) or a better type of visualisation. Depends on general framework (driver-team-drivers-season)"
   ]
  },
  {
   "cell_type": "markdown",
   "id": "035d9799",
   "metadata": {},
   "source": [
    "### Qualifying"
   ]
  },
  {
   "cell_type": "code",
   "execution_count": 46,
   "id": "0a038180",
   "metadata": {},
   "outputs": [],
   "source": [
    "# #If I just input quali_df = results_df, I will find the 1st place grid positions, not pole positions\n",
    "# quali_df = results_df.copy()"
   ]
  },
  {
   "cell_type": "code",
   "execution_count": 3,
   "id": "6ac2ac6d",
   "metadata": {},
   "outputs": [],
   "source": [
    "quali_df = pd.read_csv('data/gps_2024_season_quali.csv')"
   ]
  },
  {
   "cell_type": "code",
   "execution_count": 4,
   "id": "d07925ab",
   "metadata": {},
   "outputs": [
    {
     "data": {
      "text/html": [
       "<div>\n",
       "<style scoped>\n",
       "    .dataframe tbody tr th:only-of-type {\n",
       "        vertical-align: middle;\n",
       "    }\n",
       "\n",
       "    .dataframe tbody tr th {\n",
       "        vertical-align: top;\n",
       "    }\n",
       "\n",
       "    .dataframe thead th {\n",
       "        text-align: right;\n",
       "    }\n",
       "</style>\n",
       "<table border=\"1\" class=\"dataframe\">\n",
       "  <thead>\n",
       "    <tr style=\"text-align: right;\">\n",
       "      <th></th>\n",
       "      <th>Driver</th>\n",
       "      <th>Position</th>\n",
       "      <th>EventName</th>\n",
       "    </tr>\n",
       "  </thead>\n",
       "  <tbody>\n",
       "    <tr>\n",
       "      <th>0</th>\n",
       "      <td>VER</td>\n",
       "      <td>1.0</td>\n",
       "      <td>Bahrain Grand Prix</td>\n",
       "    </tr>\n",
       "    <tr>\n",
       "      <th>1</th>\n",
       "      <td>LEC</td>\n",
       "      <td>2.0</td>\n",
       "      <td>Bahrain Grand Prix</td>\n",
       "    </tr>\n",
       "    <tr>\n",
       "      <th>2</th>\n",
       "      <td>RUS</td>\n",
       "      <td>3.0</td>\n",
       "      <td>Bahrain Grand Prix</td>\n",
       "    </tr>\n",
       "    <tr>\n",
       "      <th>3</th>\n",
       "      <td>SAI</td>\n",
       "      <td>4.0</td>\n",
       "      <td>Bahrain Grand Prix</td>\n",
       "    </tr>\n",
       "    <tr>\n",
       "      <th>4</th>\n",
       "      <td>PER</td>\n",
       "      <td>5.0</td>\n",
       "      <td>Bahrain Grand Prix</td>\n",
       "    </tr>\n",
       "  </tbody>\n",
       "</table>\n",
       "</div>"
      ],
      "text/plain": [
       "  Driver  Position           EventName\n",
       "0    VER       1.0  Bahrain Grand Prix\n",
       "1    LEC       2.0  Bahrain Grand Prix\n",
       "2    RUS       3.0  Bahrain Grand Prix\n",
       "3    SAI       4.0  Bahrain Grand Prix\n",
       "4    PER       5.0  Bahrain Grand Prix"
      ]
     },
     "execution_count": 4,
     "metadata": {},
     "output_type": "execute_result"
    }
   ],
   "source": [
    "quali_df = quali_df[['Abbreviation', 'Position', 'EventName']]\n",
    "quali_df = quali_df.rename(columns={'Abbreviation': 'Driver'})\n",
    "quali_df.head()"
   ]
  },
  {
   "cell_type": "markdown",
   "id": "c89b3298",
   "metadata": {},
   "source": [
    "#### Qualifying performance"
   ]
  },
  {
   "cell_type": "code",
   "execution_count": 5,
   "id": "ac844e06",
   "metadata": {},
   "outputs": [
    {
     "data": {
      "text/html": [
       "<div>\n",
       "<style scoped>\n",
       "    .dataframe tbody tr th:only-of-type {\n",
       "        vertical-align: middle;\n",
       "    }\n",
       "\n",
       "    .dataframe tbody tr th {\n",
       "        vertical-align: top;\n",
       "    }\n",
       "\n",
       "    .dataframe thead th {\n",
       "        text-align: right;\n",
       "    }\n",
       "</style>\n",
       "<table border=\"1\" class=\"dataframe\">\n",
       "  <thead>\n",
       "    <tr style=\"text-align: right;\">\n",
       "      <th></th>\n",
       "      <th>Driver</th>\n",
       "      <th>Position</th>\n",
       "      <th>EventName</th>\n",
       "    </tr>\n",
       "  </thead>\n",
       "  <tbody>\n",
       "    <tr>\n",
       "      <th>33</th>\n",
       "      <td>RIC</td>\n",
       "      <td>14.0</td>\n",
       "      <td>Saudi Arabian Grand Prix</td>\n",
       "    </tr>\n",
       "    <tr>\n",
       "      <th>351</th>\n",
       "      <td>PER</td>\n",
       "      <td>13.0</td>\n",
       "      <td>Singapore Grand Prix</td>\n",
       "    </tr>\n",
       "    <tr>\n",
       "      <th>192</th>\n",
       "      <td>STR</td>\n",
       "      <td>14.0</td>\n",
       "      <td>Spanish Grand Prix</td>\n",
       "    </tr>\n",
       "    <tr>\n",
       "      <th>95</th>\n",
       "      <td>MAG</td>\n",
       "      <td>17.0</td>\n",
       "      <td>Chinese Grand Prix</td>\n",
       "    </tr>\n",
       "    <tr>\n",
       "      <th>296</th>\n",
       "      <td>ZHO</td>\n",
       "      <td>18.0</td>\n",
       "      <td>Dutch Grand Prix</td>\n",
       "    </tr>\n",
       "  </tbody>\n",
       "</table>\n",
       "</div>"
      ],
      "text/plain": [
       "    Driver  Position                 EventName\n",
       "33     RIC      14.0  Saudi Arabian Grand Prix\n",
       "351    PER      13.0      Singapore Grand Prix\n",
       "192    STR      14.0        Spanish Grand Prix\n",
       "95     MAG      17.0        Chinese Grand Prix\n",
       "296    ZHO      18.0          Dutch Grand Prix"
      ]
     },
     "execution_count": 5,
     "metadata": {},
     "output_type": "execute_result"
    }
   ],
   "source": [
    "quali_per_df = quali_df.copy()\n",
    "quali_per_df.sample(5)"
   ]
  },
  {
   "cell_type": "code",
   "execution_count": 6,
   "id": "2e8f69f5",
   "metadata": {},
   "outputs": [
    {
     "data": {
      "text/html": [
       "<div>\n",
       "<style scoped>\n",
       "    .dataframe tbody tr th:only-of-type {\n",
       "        vertical-align: middle;\n",
       "    }\n",
       "\n",
       "    .dataframe tbody tr th {\n",
       "        vertical-align: top;\n",
       "    }\n",
       "\n",
       "    .dataframe thead th {\n",
       "        text-align: right;\n",
       "    }\n",
       "</style>\n",
       "<table border=\"1\" class=\"dataframe\">\n",
       "  <thead>\n",
       "    <tr style=\"text-align: right;\">\n",
       "      <th></th>\n",
       "      <th>Driver</th>\n",
       "      <th>Position</th>\n",
       "      <th>EventName</th>\n",
       "    </tr>\n",
       "  </thead>\n",
       "  <tbody>\n",
       "    <tr>\n",
       "      <th>6</th>\n",
       "      <td>NOR</td>\n",
       "      <td>7.0</td>\n",
       "      <td>Bahrain Grand Prix</td>\n",
       "    </tr>\n",
       "    <tr>\n",
       "      <th>7</th>\n",
       "      <td>PIA</td>\n",
       "      <td>8.0</td>\n",
       "      <td>Bahrain Grand Prix</td>\n",
       "    </tr>\n",
       "    <tr>\n",
       "      <th>24</th>\n",
       "      <td>PIA</td>\n",
       "      <td>5.0</td>\n",
       "      <td>Saudi Arabian Grand Prix</td>\n",
       "    </tr>\n",
       "    <tr>\n",
       "      <th>25</th>\n",
       "      <td>NOR</td>\n",
       "      <td>6.0</td>\n",
       "      <td>Saudi Arabian Grand Prix</td>\n",
       "    </tr>\n",
       "    <tr>\n",
       "      <th>43</th>\n",
       "      <td>NOR</td>\n",
       "      <td>4.0</td>\n",
       "      <td>Australian Grand Prix</td>\n",
       "    </tr>\n",
       "  </tbody>\n",
       "</table>\n",
       "</div>"
      ],
      "text/plain": [
       "   Driver  Position                 EventName\n",
       "6     NOR       7.0        Bahrain Grand Prix\n",
       "7     PIA       8.0        Bahrain Grand Prix\n",
       "24    PIA       5.0  Saudi Arabian Grand Prix\n",
       "25    NOR       6.0  Saudi Arabian Grand Prix\n",
       "43    NOR       4.0     Australian Grand Prix"
      ]
     },
     "execution_count": 6,
     "metadata": {},
     "output_type": "execute_result"
    }
   ],
   "source": [
    "driver_list = ['NOR', 'PIA']\n",
    "quali_per_df = quali_per_df[quali_per_df['Driver'].isin(driver_list)]\n",
    "quali_per_df.head()"
   ]
  },
  {
   "cell_type": "markdown",
   "id": "016eb77a",
   "metadata": {},
   "source": [
    "The pivot function in pandas is used to reshape the DataFrame, essentially transforming or \"pivoting\" the data such that unique values from one column become new columns, while other columns are used as row indices."
   ]
  },
  {
   "cell_type": "code",
   "execution_count": 8,
   "id": "ef902176",
   "metadata": {},
   "outputs": [],
   "source": [
    "# Pivot the DataFrame for easier comparison by EventName\n",
    "pivoted = quali_per_df.pivot(index='EventName', columns='Driver', values='Position')"
   ]
  },
  {
   "cell_type": "code",
   "execution_count": 9,
   "id": "0b0649e9",
   "metadata": {},
   "outputs": [
    {
     "data": {
      "text/html": [
       "<div>\n",
       "<style scoped>\n",
       "    .dataframe tbody tr th:only-of-type {\n",
       "        vertical-align: middle;\n",
       "    }\n",
       "\n",
       "    .dataframe tbody tr th {\n",
       "        vertical-align: top;\n",
       "    }\n",
       "\n",
       "    .dataframe thead th {\n",
       "        text-align: right;\n",
       "    }\n",
       "</style>\n",
       "<table border=\"1\" class=\"dataframe\">\n",
       "  <thead>\n",
       "    <tr style=\"text-align: right;\">\n",
       "      <th>Driver</th>\n",
       "      <th>NOR</th>\n",
       "      <th>PIA</th>\n",
       "    </tr>\n",
       "    <tr>\n",
       "      <th>EventName</th>\n",
       "      <th></th>\n",
       "      <th></th>\n",
       "    </tr>\n",
       "  </thead>\n",
       "  <tbody>\n",
       "    <tr>\n",
       "      <th>Australian Grand Prix</th>\n",
       "      <td>4.0</td>\n",
       "      <td>6.0</td>\n",
       "    </tr>\n",
       "    <tr>\n",
       "      <th>Austrian Grand Prix</th>\n",
       "      <td>2.0</td>\n",
       "      <td>7.0</td>\n",
       "    </tr>\n",
       "    <tr>\n",
       "      <th>Azerbaijan Grand Prix</th>\n",
       "      <td>16.0</td>\n",
       "      <td>2.0</td>\n",
       "    </tr>\n",
       "    <tr>\n",
       "      <th>Bahrain Grand Prix</th>\n",
       "      <td>7.0</td>\n",
       "      <td>8.0</td>\n",
       "    </tr>\n",
       "    <tr>\n",
       "      <th>Belgian Grand Prix</th>\n",
       "      <td>5.0</td>\n",
       "      <td>6.0</td>\n",
       "    </tr>\n",
       "  </tbody>\n",
       "</table>\n",
       "</div>"
      ],
      "text/plain": [
       "Driver                  NOR  PIA\n",
       "EventName                       \n",
       "Australian Grand Prix   4.0  6.0\n",
       "Austrian Grand Prix     2.0  7.0\n",
       "Azerbaijan Grand Prix  16.0  2.0\n",
       "Bahrain Grand Prix      7.0  8.0\n",
       "Belgian Grand Prix      5.0  6.0"
      ]
     },
     "execution_count": 9,
     "metadata": {},
     "output_type": "execute_result"
    }
   ],
   "source": [
    "pivoted.head()"
   ]
  },
  {
   "cell_type": "code",
   "execution_count": 10,
   "id": "77d68b59",
   "metadata": {},
   "outputs": [],
   "source": [
    "# Add a column to indicate which driver has the lower position\n",
    "pivoted['BetterDriver'] = pivoted.idxmin(axis=1)  # Find the driver with the minimum position"
   ]
  },
  {
   "cell_type": "code",
   "execution_count": 11,
   "id": "37d00f80",
   "metadata": {},
   "outputs": [
    {
     "data": {
      "text/html": [
       "<div>\n",
       "<style scoped>\n",
       "    .dataframe tbody tr th:only-of-type {\n",
       "        vertical-align: middle;\n",
       "    }\n",
       "\n",
       "    .dataframe tbody tr th {\n",
       "        vertical-align: top;\n",
       "    }\n",
       "\n",
       "    .dataframe thead th {\n",
       "        text-align: right;\n",
       "    }\n",
       "</style>\n",
       "<table border=\"1\" class=\"dataframe\">\n",
       "  <thead>\n",
       "    <tr style=\"text-align: right;\">\n",
       "      <th></th>\n",
       "      <th>BetterDriver</th>\n",
       "      <th>count</th>\n",
       "    </tr>\n",
       "  </thead>\n",
       "  <tbody>\n",
       "    <tr>\n",
       "      <th>0</th>\n",
       "      <td>NOR</td>\n",
       "      <td>18</td>\n",
       "    </tr>\n",
       "    <tr>\n",
       "      <th>1</th>\n",
       "      <td>PIA</td>\n",
       "      <td>4</td>\n",
       "    </tr>\n",
       "  </tbody>\n",
       "</table>\n",
       "</div>"
      ],
      "text/plain": [
       "  BetterDriver  count\n",
       "0          NOR     18\n",
       "1          PIA      4"
      ]
     },
     "execution_count": 11,
     "metadata": {},
     "output_type": "execute_result"
    }
   ],
   "source": [
    "outquali_df = pd.DataFrame(pivoted['BetterDriver'].value_counts())\n",
    "outquali_df = outquali_df.reset_index()\n",
    "outquali_df"
   ]
  },
  {
   "cell_type": "code",
   "execution_count": 12,
   "id": "93ca6815",
   "metadata": {},
   "outputs": [
    {
     "data": {
      "text/plain": [
       "'NOR'"
      ]
     },
     "execution_count": 12,
     "metadata": {},
     "output_type": "execute_result"
    }
   ],
   "source": [
    "better_driver = outquali_df.loc[outquali_df['count'].idxmax(), 'BetterDriver']\n",
    "better_driver"
   ]
  },
  {
   "cell_type": "markdown",
   "id": "a43aeb85",
   "metadata": {},
   "source": []
  },
  {
   "cell_type": "code",
   "execution_count": 8,
   "id": "0dd143ea",
   "metadata": {},
   "outputs": [
    {
     "data": {
      "image/png": "[encoded data removed]",
      "text/plain": [
       "<Figure size 1000x600 with 1 Axes>"
      ]
     },
     "metadata": {},
     "output_type": "display_data"
    },
    {
     "data": {
      "image/png": "[encoded data removed]",
      "text/plain": [
       "<Figure size 1000x200 with 1 Axes>"
      ]
     },
     "metadata": {},
     "output_type": "display_data"
    }
   ],
   "source": [
    "compare_quali_season(['VER', 'NOR'])"
   ]
  },
  {
   "cell_type": "code",
   "execution_count": null,
   "id": "82d56a43",
   "metadata": {},
   "outputs": [],
   "source": []
  },
  {
   "cell_type": "code",
   "execution_count": null,
   "id": "e3a85bc8",
   "metadata": {},
   "outputs": [],
   "source": []
  },
  {
   "cell_type": "code",
   "execution_count": null,
   "id": "4e349eda",
   "metadata": {},
   "outputs": [],
   "source": []
  },
  {
   "cell_type": "markdown",
   "id": "d09aba47",
   "metadata": {},
   "source": [
    "#### Highest number of pole positions this season?"
   ]
  },
  {
   "cell_type": "code",
   "execution_count": 34,
   "id": "b87762a3",
   "metadata": {},
   "outputs": [
    {
     "data": {
      "text/html": [
       "<div>\n",
       "<style scoped>\n",
       "    .dataframe tbody tr th:only-of-type {\n",
       "        vertical-align: middle;\n",
       "    }\n",
       "\n",
       "    .dataframe tbody tr th {\n",
       "        vertical-align: top;\n",
       "    }\n",
       "\n",
       "    .dataframe thead th {\n",
       "        text-align: right;\n",
       "    }\n",
       "</style>\n",
       "<table border=\"1\" class=\"dataframe\">\n",
       "  <thead>\n",
       "    <tr style=\"text-align: right;\">\n",
       "      <th></th>\n",
       "      <th>Driver</th>\n",
       "      <th>Position</th>\n",
       "      <th>EventName</th>\n",
       "    </tr>\n",
       "  </thead>\n",
       "  <tbody>\n",
       "    <tr>\n",
       "      <th>159</th>\n",
       "      <td>RUS</td>\n",
       "      <td>1.0</td>\n",
       "      <td>Canadian Grand Prix</td>\n",
       "    </tr>\n",
       "    <tr>\n",
       "      <th>139</th>\n",
       "      <td>LEC</td>\n",
       "      <td>1.0</td>\n",
       "      <td>Monaco Grand Prix</td>\n",
       "    </tr>\n",
       "    <tr>\n",
       "      <th>419</th>\n",
       "      <td>RUS</td>\n",
       "      <td>1.0</td>\n",
       "      <td>Las Vegas Grand Prix</td>\n",
       "    </tr>\n",
       "    <tr>\n",
       "      <th>359</th>\n",
       "      <td>NOR</td>\n",
       "      <td>1.0</td>\n",
       "      <td>United States Grand Prix</td>\n",
       "    </tr>\n",
       "    <tr>\n",
       "      <th>399</th>\n",
       "      <td>NOR</td>\n",
       "      <td>1.0</td>\n",
       "      <td>São Paulo Grand Prix</td>\n",
       "    </tr>\n",
       "  </tbody>\n",
       "</table>\n",
       "</div>"
      ],
      "text/plain": [
       "    Driver  Position                 EventName\n",
       "159    RUS       1.0       Canadian Grand Prix\n",
       "139    LEC       1.0         Monaco Grand Prix\n",
       "419    RUS       1.0      Las Vegas Grand Prix\n",
       "359    NOR       1.0  United States Grand Prix\n",
       "399    NOR       1.0      São Paulo Grand Prix"
      ]
     },
     "execution_count": 34,
     "metadata": {},
     "output_type": "execute_result"
    }
   ],
   "source": [
    "pol_df = quali_df.copy()\n",
    "pol_df = pol_df[pol_df['Position'] == 1]\n",
    "pol_df.sample(5)"
   ]
  },
  {
   "cell_type": "code",
   "execution_count": 35,
   "id": "26209b8b",
   "metadata": {},
   "outputs": [],
   "source": [
    "pol_df = pd.DataFrame(pol_df['Driver'].value_counts())\n",
    "pol_df = pol_df.reset_index()"
   ]
  },
  {
   "cell_type": "code",
   "execution_count": 36,
   "id": "7b80203b",
   "metadata": {},
   "outputs": [
    {
     "data": {
      "text/plain": [
       "np.int64(0)"
      ]
     },
     "execution_count": 36,
     "metadata": {},
     "output_type": "execute_result"
    }
   ],
   "source": [
    "pol_df.idxmax().values[0]"
   ]
  },
  {
   "cell_type": "code",
   "execution_count": 41,
   "id": "70020adb",
   "metadata": {},
   "outputs": [
    {
     "data": {
      "image/png": "[encoded data removed]",
      "text/plain": [
       "<Figure size 640x480 with 1 Axes>"
      ]
     },
     "metadata": {},
     "output_type": "display_data"
    }
   ],
   "source": [
    "# Extract keys (drivers) and values (frequencies)\n",
    "drivers = pol_df['Driver']\n",
    "counts = pol_df['count']\n",
    "\n",
    "# Create the bar chart\n",
    "plt.bar(drivers, counts, color='skyblue')\n",
    "\n",
    "# Add labels and title\n",
    "plt.xlabel('Drivers')\n",
    "plt.ylabel('Frequency')\n",
    "plt.title('Pole Position Frequency')\n",
    "\n",
    "# Show the plot\n",
    "plt.show()"
   ]
  },
  {
   "cell_type": "code",
   "execution_count": null,
   "id": "e87c8982",
   "metadata": {},
   "outputs": [],
   "source": []
  }
 ],
 "metadata": {
  "kernelspec": {
   "display_name": "f1_assistant",
   "language": "python",
   "name": "python3"
  },
  "language_info": {
   "codemirror_mode": {
    "name": "ipython",
    "version": 3
   },
   "file_extension": ".py",
   "mimetype": "text/x-python",
   "name": "python",
   "nbconvert_exporter": "python",
   "pygments_lexer": "ipython3",
   "version": "3.13.0"
  }
 },
 "nbformat": 4,
 "nbformat_minor": 5
}
