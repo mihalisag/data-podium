{
 "cells": [
  {
   "cell_type": "markdown",
   "metadata": {},
   "source": [
    "# NLP test"
   ]
  },
  {
   "cell_type": "code",
   "execution_count": 30,
   "metadata": {},
   "outputs": [
    {
     "name": "stdout",
     "output_type": "stream",
     "text": [
      "Entities detected:\n",
      "12 - CARDINAL\n",
      "Max - PERSON\n",
      "Charles - PERSON\n",
      "Identified intent: analyze_tire_wear\n",
      "\n",
      "Entity Explanation:\n",
      "Lap number identified: 12\n",
      "Driver identified: Max\n",
      "Driver identified: Charles\n"
     ]
    }
   ],
   "source": [
    "import spacy\n",
    "\n",
    "# Load spaCy's small English model\n",
    "nlp = spacy.load(\"en_core_web_sm\")\n",
    "\n",
    "# Sample user query\n",
    "# text = \"What is the tire wear for driver Hamilton on lap 50?\"\n",
    "text = \"Who had the highest tire wear in lap 12, Max or Charles?\"\n",
    "# text = \"Which team is better in the championship, Red Bull or Ferrari?\"\n",
    "\n",
    "# Process the text\n",
    "doc = nlp(text)\n",
    "\n",
    "# Print recognized entities and their labels\n",
    "print(\"Entities detected:\")\n",
    "for ent in doc.ents:\n",
    "    print(f\"{ent.text} - {ent.label_}\")\n",
    "\n",
    "# Simple keyword-based intent identification\n",
    "if \"tire wear\" in text.lower():\n",
    "    intent = \"analyze_tire_wear\"\n",
    "    print(f\"Identified intent: {intent}\")\n",
    "\n",
    "# Output explanation\n",
    "print(\"\\nEntity Explanation:\")\n",
    "for ent in doc.ents:\n",
    "    if ent.label_ == \"PERSON\":\n",
    "        print(f\"Driver identified: {ent.text}\")\n",
    "    elif ent.label_ == \"CARDINAL\" or ent.label_ == \"ORDINAL\":\n",
    "        print(f\"Lap number identified: {ent.text}\")\n"
   ]
  },
  {
   "cell_type": "markdown",
   "metadata": {},
   "source": [
    "To create a custom rule that recognizes specific terms (e.g., “lap” and specific drivers), you can use EntityRuler:"
   ]
  },
  {
   "cell_type": "code",
   "execution_count": 24,
   "metadata": {},
   "outputs": [],
   "source": [
    "from spacy.pipeline import EntityRuler\n",
    "\n",
    "# Create an EntityRuler and add it before the NER component in the pipeline\n",
    "ruler = nlp.add_pipe(\"entity_ruler\", before=\"ner\")\n",
    "\n",
    "# Define custom patterns for the EntityRuler\n",
    "patterns = [\n",
    "    {\"label\": \"DRIVER\", \"pattern\": [{\"LOWER\": \"hamilton\"}]},\n",
    "    {\"label\": \"LAP\", \"pattern\": [{\"LOWER\": \"lap\"}]},\n",
    "    {\"label\": \"TEAM\", \"pattern\": [{\"LOWER\": \"red\"}, {\"LOWER\": \"bull\"}, {\"LOWER\": \"racing\"}]},\n",
    "]\n",
    "\n",
    "patterns.extend([\n",
    "    {\"label\": \"TEAM\", \"pattern\": [{\"LOWER\": \"red\"}, {\"LOWER\": \"bull\"}, {\"LOWER\": \"racing\"}]},\n",
    "    {\"label\": \"TEAM\", \"pattern\": [{\"LOWER\": \"red\"}, {\"LOWER\": \"bull\"}]},  # Subset pattern\n",
    "    {\"label\": \"TEAM\", \"pattern\": [{\"LOWER\": \"mercedes\"}, {\"LOWER\": \"amg\"}, {\"LOWER\": \"petronas\"}]},\n",
    "    {\"label\": \"TEAM\", \"pattern\": [{\"LOWER\": \"mercedes\"}]}  # Subset pattern\n",
    "])\n",
    "\n",
    "# Add patterns to the ruler\n",
    "ruler.add_patterns(patterns)\n"
   ]
  },
  {
   "cell_type": "code",
   "execution_count": 25,
   "metadata": {},
   "outputs": [
    {
     "name": "stdout",
     "output_type": "stream",
     "text": [
      "Entities detected:\n",
      "Hamilton - DRIVER\n",
      "lap - LAP\n",
      "50 - DATE\n"
     ]
    }
   ],
   "source": [
    "# Sample text to test\n",
    "doc = nlp(\"Show me the tire wear for driver Hamilton on lap 50.\")\n",
    "\n",
    "# Display detected entities\n",
    "print(\"Entities detected:\")\n",
    "for ent in doc.ents:\n",
    "    print(f\"{ent.text} - {ent.label_}\")\n",
    "\n",
    "# Expected Output:\n",
    "# Hamilton - DRIVER\n",
    "# lap - LAP\n",
    "# 50 - CARDINAL\n"
   ]
  },
  {
   "cell_type": "markdown",
   "metadata": {},
   "source": [
    "Add Red Bull Racing as a team"
   ]
  },
  {
   "cell_type": "code",
   "execution_count": 28,
   "metadata": {},
   "outputs": [
    {
     "name": "stdout",
     "output_type": "stream",
     "text": [
      "Red Bull Racing - TEAM\n",
      "Mercedes - TEAM\n"
     ]
    }
   ],
   "source": [
    "# Test the custom rules\n",
    "text = \"Which team is better in the championship, Red Bull Racing or Mercedes?\"\n",
    "doc = nlp(text)\n",
    "for ent in doc.ents:\n",
    "    print(f\"{ent.text} - {ent.label_}\")"
   ]
  },
  {
   "cell_type": "code",
   "execution_count": null,
   "metadata": {},
   "outputs": [],
   "source": []
  }
 ],
 "metadata": {
  "kernelspec": {
   "display_name": ".venv",
   "language": "python",
   "name": "python3"
  },
  "language_info": {
   "codemirror_mode": {
    "name": "ipython",
    "version": 3
   },
   "file_extension": ".py",
   "mimetype": "text/x-python",
   "name": "python",
   "nbconvert_exporter": "python",
   "pygments_lexer": "ipython3",
   "version": "3.11.2"
  }
 },
 "nbformat": 4,
 "nbformat_minor": 2
}
